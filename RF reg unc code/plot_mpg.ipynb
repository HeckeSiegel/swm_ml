{
  "cells": [
    {
      "cell_type": "code",
      "execution_count": null,
      "metadata": {
        "collapsed": false
      },
      "outputs": [],
      "source": [
        "%matplotlib inline"
      ]
    },
    {
      "cell_type": "markdown",
      "metadata": {},
      "source": [
        "\n# Plotting Regression Forest Error Bars\n\nThis example demonstrates using `forestci` to calculate the error bars of\nthe predictions of a :class:`sklearn.ensemble.RandomForestRegressor` object.\n\nThe data used here are a classical machine learning data-set, describing\nvarious features of different cars, and their MPG.\n"
      ]
    },
    {
      "cell_type": "code",
      "execution_count": null,
      "metadata": {
        "collapsed": false
      },
      "outputs": [],
      "source": [
        "# Regression Forest Example\nimport numpy as np\nfrom matplotlib import pyplot as plt\nfrom sklearn.ensemble import RandomForestRegressor\nimport sklearn.model_selection as xval\nfrom sklearn.datasets import fetch_openml\nimport forestci as fci\n\n# retreive mpg data from machine learning library\nmpg_data = fetch_openml(data_id=196)\n\n# separate mpg data into predictors and outcome variable\nmpg_X = mpg_data[\"data\"]\nmpg_y = mpg_data[\"target\"]\n\n# remove rows where the data is nan\nnot_null_sel = np.where(mpg_X.isna().sum(axis=1).values == 0)\nmpg_X = mpg_X.values[not_null_sel]\nmpg_y = mpg_y.values[not_null_sel]\n\n# split mpg data into training and test set\nmpg_X_train, mpg_X_test, mpg_y_train, mpg_y_test = xval.train_test_split(\n    mpg_X,\n    mpg_y,\n    test_size=0.25,\n    random_state=42)\n\n# Create RandomForestRegressor\nn_trees = 2000\nmpg_forest = RandomForestRegressor(n_estimators=n_trees, random_state=42)\nmpg_forest.fit(mpg_X_train, mpg_y_train)\nmpg_y_hat = mpg_forest.predict(mpg_X_test)\n\n# Plot predicted MPG without error bars\nplt.scatter(mpg_y_test, mpg_y_hat)\nplt.plot([5, 45], [5, 45], 'k--')\nplt.xlabel('Reported MPG')\nplt.ylabel('Predicted MPG')\nplt.show()\n\n# Calculate the variance\nmpg_V_IJ_unbiased = fci.random_forest_error(mpg_forest, mpg_X_train,\n                                            mpg_X_test)\n\n# Plot error bars for predicted MPG using unbiased variance\nplt.errorbar(mpg_y_test, mpg_y_hat, yerr=np.sqrt(mpg_V_IJ_unbiased), fmt='o')\nplt.plot([5, 45], [5, 45], 'k--')\nplt.xlabel('Reported MPG')\nplt.ylabel('Predicted MPG')\nplt.show()"
      ]
    }
  ],
  "metadata": {
    "kernelspec": {
      "display_name": "Python 3",
      "language": "python",
      "name": "python3"
    },
    "language_info": {
      "codemirror_mode": {
        "name": "ipython",
        "version": 3
      },
      "file_extension": ".py",
      "mimetype": "text/x-python",
      "name": "python",
      "nbconvert_exporter": "python",
      "pygments_lexer": "ipython3",
      "version": "3.7.13"
    }
  },
  "nbformat": 4,
  "nbformat_minor": 0
}